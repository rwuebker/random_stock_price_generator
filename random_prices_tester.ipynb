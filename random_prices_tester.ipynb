{
 "cells": [
  {
   "cell_type": "code",
   "execution_count": 26,
   "metadata": {},
   "outputs": [],
   "source": [
    "from random_stock_price_generator import RandomStockPrices\n",
    "import numpy as np\n",
    "import pandas as pd\n",
    "import matplotlib.pyplot as plt"
   ]
  },
  {
   "cell_type": "markdown",
   "metadata": {},
   "source": [
    "# Taking a look at the distribution of initial prices.."
   ]
  },
  {
   "cell_type": "code",
   "execution_count": null,
   "metadata": {},
   "outputs": [],
   "source": [
    "rp = RandomStockPrices(years=55)\n",
    "prices = rp.prices\n",
    "returns = rp.returns\n",
    "initial_prices = prices.iloc[0,:].hist()"
   ]
  },
  {
   "cell_type": "code",
   "execution_count": null,
   "metadata": {},
   "outputs": [],
   "source": [
    "prices.head()\n",
    "returns.head()"
   ]
  },
  {
   "cell_type": "code",
   "execution_count": null,
   "metadata": {},
   "outputs": [],
   "source": [
    "first_plot = prices[['TICK0']].plot()\n",
    "first_plot.tick_params(labelright=True, right=True)\n",
    "plt.show()"
   ]
  },
  {
   "cell_type": "code",
   "execution_count": null,
   "metadata": {},
   "outputs": [],
   "source": [
    "returns_first_plot = returns[['TICK0']].plot()\n",
    "returns_first_plot.tick_params(labelright=True, right=True)\n",
    "plt.show()"
   ]
  },
  {
   "cell_type": "markdown",
   "metadata": {},
   "source": [
    "## Getting the distribution of the first stock based on its simulated historical data"
   ]
  },
  {
   "cell_type": "code",
   "execution_count": null,
   "metadata": {},
   "outputs": [],
   "source": [
    "first_returns = returns[['TICK0']].values\n",
    "mu = round(first_returns.mean() * 252, 4)\n",
    "std = round(first_returns.std() * np.sqrt(252), 4)\n",
    "print('mean is : ', mu)\n",
    "print('std is : ', std)"
   ]
  },
  {
   "cell_type": "code",
   "execution_count": null,
   "metadata": {},
   "outputs": [],
   "source": [
    "def analyze_dists(returns, years):\n",
    "    days = years * 252\n",
    "    mus = []\n",
    "    stds = []\n",
    "    for i in range(len(returns.columns)):\n",
    "        rets = returns[['TICK{}'.format(i)]].values[0:days]\n",
    "        mu = rets.mean()*252\n",
    "        std = rets.std()*np.sqrt(252)\n",
    "        mus.append(mu)\n",
    "        stds.append(std)\n",
    "\n",
    "    \n",
    "    plt.hist(mus)\n",
    "    plt.show()\n",
    "    print('avg mu: {0:.4f}'.format(np.mean(mus)))\n",
    "    print('avg std: {0:.4f}'.format(np.mean(stds)))\n",
    "    print('avg initial price: {0:.4f}'.format(prices.iloc[0,:].mean()))\n",
    "    print('avg ending price: {0:.4f}'.format(prices.iloc[252*years,:].mean()))\n"
   ]
  },
  {
   "cell_type": "code",
   "execution_count": null,
   "metadata": {},
   "outputs": [],
   "source": [
    "analyze_dists(returns, 20)"
   ]
  },
  {
   "cell_type": "code",
   "execution_count": null,
   "metadata": {},
   "outputs": [],
   "source": [
    "analyze_dists(returns, 50)"
   ]
  },
  {
   "cell_type": "code",
   "execution_count": null,
   "metadata": {},
   "outputs": [],
   "source": [
    "def analyze_annual_returns(returns, prices, years):\n",
    "    means = []\n",
    "    rets = []\n",
    "    for i in range(years):\n",
    "        start_day = i * 252\n",
    "        end_day = 252 * (i+1)\n",
    "        ret = (prices.iloc[end_day,:] - prices.iloc[start_day,:]) / prices.iloc[start_day,:]\n",
    "        rets.append(ret)\n",
    "        means.append(ret.mean())\n",
    "    print('this is means: ', means)\n",
    "    print('the mean return per year was: {:.4f}%'.format(100*round(np.mean(means), 4)))\n",
    "    print('std of annual returns: {:.4f}'.format(round(np.std(means), 4)))\n",
    "    return rets"
   ]
  },
  {
   "cell_type": "code",
   "execution_count": null,
   "metadata": {},
   "outputs": [],
   "source": [
    "rets = analyze_annual_returns(returns, prices, 50)"
   ]
  },
  {
   "cell_type": "code",
   "execution_count": null,
   "metadata": {},
   "outputs": [],
   "source": []
  }
 ],
 "metadata": {
  "kernelspec": {
   "display_name": "Python 3",
   "language": "python",
   "name": "python3"
  },
  "language_info": {
   "codemirror_mode": {
    "name": "ipython",
    "version": 3
   },
   "file_extension": ".py",
   "mimetype": "text/x-python",
   "name": "python",
   "nbconvert_exporter": "python",
   "pygments_lexer": "ipython3",
   "version": "3.7.3"
  }
 },
 "nbformat": 4,
 "nbformat_minor": 2
}
